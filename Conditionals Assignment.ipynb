{
 "cells": [
  {
   "cell_type": "markdown",
   "id": "51c72abc-1856-4741-b4cc-ce0a484a9c4a",
   "metadata": {},
   "source": [
    "# 1. Write a program that takes a number as input and prints whether it's positive, negative, or zero."
   ]
  },
  {
   "cell_type": "code",
   "execution_count": 9,
   "id": "52887d6e-d316-441a-8327-9714c44eec86",
   "metadata": {},
   "outputs": [
    {
     "name": "stdin",
     "output_type": "stream",
     "text": [
      "Enter a Number -55\n"
     ]
    },
    {
     "name": "stdout",
     "output_type": "stream",
     "text": [
      "A Negative Number\n"
     ]
    }
   ],
   "source": [
    "number = float(input(\"Enter a Number: \"))\n",
    "if number > 0:\n",
    "    print(\" A Positive Number\")\n",
    "elif number < 0:\n",
    "    print('A Negative Number')\n",
    "elif number == 0:\n",
    "    print(number)"
   ]
  },
  {
   "cell_type": "markdown",
   "id": "14c8e571-3f81-4856-91cd-9b6c79b772ed",
   "metadata": {},
   "source": [
    "# 2. Write a program that determines if a year entered by the user is a leap year. \n",
    "# (Hint: A leap year is divisible by 4, except for century years which must be divisible by 400)."
   ]
  },
  {
   "cell_type": "code",
   "execution_count": 22,
   "id": "1121ba93-d2fc-4b0e-8ea8-a703489938e2",
   "metadata": {},
   "outputs": [
    {
     "name": "stdin",
     "output_type": "stream",
     "text": [
      "Enter a Year 1999\n"
     ]
    },
    {
     "name": "stdout",
     "output_type": "stream",
     "text": [
      "The 1999 is not a leap year\n"
     ]
    }
   ],
   "source": [
    "year = int(input(\"Enter a Year: \"))\n",
    "if year % 400 == 0:\n",
    "    print(f\"The year {year} is a leap year\")\n",
    "elif year % 4 == 0:\n",
    "    print(f\"The year {year} is a leap year\")\n",
    "else:\n",
    "    print(f\"The {year} is not a leap year\")"
   ]
  },
  {
   "cell_type": "markdown",
   "id": "6061941d-498d-4a12-bad0-9b0a05187923",
   "metadata": {},
   "source": [
    "# 3. Create a program that compares two numbers and prints whether the first number is greater than, less than, or equal to the second number"
   ]
  },
  {
   "cell_type": "code",
   "execution_count": null,
   "id": "15129069-c74e-427d-90a5-21960bd61966",
   "metadata": {},
   "outputs": [],
   "source": [
    "num1 = float(input(\"Enter A Number: \"))\n",
    "num2 = float(input(\"Enter A Number: \"))\n",
    "if num1 <= num2:\n",
    "    print(f\"{num1} is less than {num2}\")\n",
    "elif num1 >= num2:\n",
    "    print(f\"{num1} is greater than {num2}\")\n",
    "else:\n",
    "    print(f\"{num1} is equals to {num2}\")"
   ]
  },
  {
   "cell_type": "markdown",
   "id": "150c5716-cb75-4c68-a88c-aef9d0ec6397",
   "metadata": {},
   "source": [
    "# 4. Write a program that checks if a number is both greater than 10 and less than 100. If it’s , it should print “Great!!”, else print “Nah!!”"
   ]
  },
  {
   "cell_type": "code",
   "execution_count": 3,
   "id": "e685435c-4e83-44b6-9db2-35ec863c1985",
   "metadata": {},
   "outputs": [
    {
     "name": "stdin",
     "output_type": "stream",
     "text": [
      "Enter a Number 190\n"
     ]
    },
    {
     "name": "stdout",
     "output_type": "stream",
     "text": [
      "Nah\n"
     ]
    }
   ],
   "source": [
    "number = float(input(\"Enter a Number: \"))\n",
    "if number > 10 and number < 100:\n",
    "    print(\"Great\")\n",
    "else:\n",
    "    print(\"Nah\")BODMAS"
   ]
  },
  {
   "cell_type": "markdown",
   "id": "1389ea02-7645-4b92-a379-6b936016f66d",
   "metadata": {},
   "source": [
    "# 5) Create a simple calculator that takes two numbers and an operator (+, -, *, /) as input and performs the corresponding operation."
   ]
  },
  {
   "cell_type": "code",
   "execution_count": 18,
   "id": "5f50a590-ec37-4334-80f8-21b68e8bf79f",
   "metadata": {},
   "outputs": [
    {
     "name": "stdin",
     "output_type": "stream",
     "text": [
      " 2\n",
      " +\n",
      " 2\n"
     ]
    },
    {
     "name": "stdout",
     "output_type": "stream",
     "text": [
      "4.0\n"
     ]
    }
   ],
   "source": [
    "num1 = float(input())\n",
    "operator = input()\n",
    "num2 = float(input())\n",
    "if operator == \"/\" :\n",
    "    compute = num1 / num2\n",
    "    print(compute)\n",
    "elif operator == \"*\" :\n",
    "    compute = num1 * num2\n",
    "    print(compute)\n",
    "elif operator == \"+\" :\n",
    "    compute = num1 + num2\n",
    "    print(compute)\n",
    "elif operator == \"-\" :\n",
    "    compute = num1 - num2\n",
    "    print(compute)"
   ]
  },
  {
   "cell_type": "code",
   "execution_count": 20,
   "id": "d7c9c0c2-cfa1-4f7b-a396-814361d91630",
   "metadata": {},
   "outputs": [
    {
     "name": "stdin",
     "output_type": "stream",
     "text": [
      " 4\n",
      " -\n",
      " 7\n"
     ]
    },
    {
     "name": "stdout",
     "output_type": "stream",
     "text": [
      "-3.0\n"
     ]
    }
   ],
   "source": [
    "num1 = float(input())\n",
    "operator = input()\n",
    "num2 = float(input())\n",
    "if operator == \"/\" :\n",
    "    compute = num1 / num2\n",
    "    print(compute)\n",
    "elif operator == \"*\" :\n",
    "    compute = num1 * num2\n",
    "    print(compute)\n",
    "elif operator == \"+\" :\n",
    "    compute = num1 + num2\n",
    "    print(compute)\n",
    "else:\n",
    "    compute = num1 - num2\n",
    "    print(compute)"
   ]
  },
  {
   "cell_type": "markdown",
   "id": "7bfc782b-c6c0-4a4b-9690-bbb90ff97e3b",
   "metadata": {},
   "source": [
    "# 6. Write a program that categorizes a person by age: child (0-12), teenager (13-19), adult (20-64), or senior (65+)."
   ]
  },
  {
   "cell_type": "code",
   "execution_count": 27,
   "id": "c1a2f68f-9f06-4b47-af42-c86bcc34c270",
   "metadata": {},
   "outputs": [
    {
     "name": "stdin",
     "output_type": "stream",
     "text": [
      "Enter Age:  20\n"
     ]
    },
    {
     "name": "stdout",
     "output_type": "stream",
     "text": [
      " This is an Adult\n"
     ]
    }
   ],
   "source": [
    "age = int(input(\"Enter Age: \"))\n",
    "if age < 12:\n",
    "    print(\"This is a Child\")\n",
    "elif age < 19:\n",
    "    print(\" This is a Teenager\")\n",
    "elif age < 64:\n",
    "    print(\" This is an Adult\")\n",
    "else:\n",
    "    print(\"This is a Senior\")"
   ]
  },
  {
   "cell_type": "markdown",
   "id": "385373f5-b45f-4ded-823e-dab12ddb105a",
   "metadata": {},
   "source": [
    "# 7. Create a program that determines if a triangle is equilateral (all sides equal), isosceles (two sides equal), or scalene (no sides equal) based on three side lengths."
   ]
  },
  {
   "cell_type": "code",
   "execution_count": 77,
   "id": "1bbab802-081a-44e3-b28d-8ad6ba457ae5",
   "metadata": {},
   "outputs": [
    {
     "name": "stdin",
     "output_type": "stream",
     "text": [
      "Enter length of side a in cm:  2\n",
      "Enter length of side b in cm:  3\n",
      "Enter length of side c in cm:  4\n"
     ]
    },
    {
     "name": "stdout",
     "output_type": "stream",
     "text": [
      "This is a Scalene Triangle\n"
     ]
    }
   ],
   "source": [
    "a = float(input(\"Enter length of side a in cm: \"))\n",
    "b = float(input(\"Enter length of side b in cm: \"))\n",
    "c = float(input(\"Enter length of side c in cm: \"))\n",
    "if a == b and a == c:\n",
    "    print(\"This is a Equilateral Triangle\")\n",
    "elif (a == b and a != c) or (b == c and b != a) or (c == a and c != b):\n",
    "    print(\"This is an Isosceles Triangle\")\n",
    "else:\n",
    "    print(\"This is a Scalene Triangle\")"
   ]
  },
  {
   "cell_type": "markdown",
   "id": "b8f1b45c-f938-4f3e-8ba6-4977caff10aa",
   "metadata": {},
   "source": [
    "# 8. Write a program that checks if two strings entered by the user are exactly equal (case-sensitive)"
   ]
  },
  {
   "cell_type": "code",
   "execution_count": 21,
   "id": "da3f00ea-5049-4b3e-a61b-1d657408f3d5",
   "metadata": {},
   "outputs": [
    {
     "name": "stdin",
     "output_type": "stream",
     "text": [
      "Enter a Sentence or a word:  sent\n",
      "Enter another Sentence or a word:  sent\n"
     ]
    },
    {
     "name": "stdout",
     "output_type": "stream",
     "text": [
      "The two sentence or words just entered are the same\n"
     ]
    }
   ],
   "source": [
    "sentence1 =  input('Enter a Sentence or a word: ').istitle()\n",
    "sentence2 =  input('Enter another Sentence or a word: ').istitle()\n",
    "if sentence1 == sentence2:\n",
    "    print('The two sentence or words just entered are the same')\n",
    "else:\n",
    "    print(\"The two sentence or words just entered are not the same\")"
   ]
  },
  {
   "cell_type": "markdown",
   "id": "b454788c-daef-4f28-ad71-6bcb94ead8eb",
   "metadata": {},
   "source": [
    "# 9. Create a program that compares two strings ignoring case and prints whether they are the same or different."
   ]
  },
  {
   "cell_type": "code",
   "execution_count": null,
   "id": "43ec7d27-8842-4fe7-a923-faf22b237f53",
   "metadata": {},
   "outputs": [],
   "source": [
    "sentence1 =  input('Enter a Sentence or a word: ')\n",
    "sentence2 =  input('Enter another Sentence or a word: ')\n",
    "if sentence1 == sentence2:\n",
    "    print('The two sentence or words just entered are the same')\n",
    "else:\n",
    "    print(\"The two sentence or words just entered are not the same\")"
   ]
  },
  {
   "cell_type": "markdown",
   "id": "6563958d-bad1-4c2d-9a44-59568d9a4ecc",
   "metadata": {},
   "source": [
    "# 10. Write a program that checks if a password meets basic criteria: at least 8 characters long and not equal to \"password\" or \"123456\"."
   ]
  },
  {
   "cell_type": "code",
   "execution_count": 52,
   "id": "7729f321-d34d-4250-b42d-c7e652483524",
   "metadata": {},
   "outputs": [
    {
     "name": "stdin",
     "output_type": "stream",
     "text": [
      "Enter a Password:  gchhbhbwbyhbhywqbyebw\n"
     ]
    },
    {
     "name": "stdout",
     "output_type": "stream",
     "text": [
      "Your Password meets the criteria\n"
     ]
    }
   ],
   "source": [
    "password = input(\"Enter a Password: \")\n",
    "if len(password) >= 8 and password != \"password\":\n",
    "    print(\"Your Password meets the criteria\")\n",
    "else:\n",
    "    print(\"Your Password does not meets the criteria\")"
   ]
  },
  {
   "cell_type": "markdown",
   "id": "588fc4a9-1336-43ec-ab4e-7f17d420d8ca",
   "metadata": {},
   "source": [
    "# 11. Create a program that categorizes a word as \"short\" (1-4 letters), \"medium\" (5-8 letters), or \"long\" (9+ letters)."
   ]
  },
  {
   "cell_type": "code",
   "execution_count": 59,
   "id": "bd04b910-1be6-43dd-8308-6fa6ff327c28",
   "metadata": {},
   "outputs": [
    {
     "name": "stdin",
     "output_type": "stream",
     "text": [
      "Enter a word: Bomasmithwhite\n"
     ]
    },
    {
     "name": "stdout",
     "output_type": "stream",
     "text": [
      "Long\n"
     ]
    }
   ],
   "source": [
    "word = input(\"Enter a word:\")\n",
    "if len(word) < 4:\n",
    "    print(\"Short\")\n",
    "elif len(word) < 8:\n",
    "    print(\"Medium\")\n",
    "else:\n",
    "    print(\"Long\")"
   ]
  },
  {
   "cell_type": "markdown",
   "id": "797d55c9-93fd-40d6-985f-2361977cbf31",
   "metadata": {},
   "source": [
    "# 12. Write a program that checks if a string contains only digits, only letters, or a mix of both."
   ]
  },
  {
   "cell_type": "code",
   "execution_count": 15,
   "id": "c5f16049-67a9-4d81-8846-38066f945df8",
   "metadata": {},
   "outputs": [
    {
     "name": "stdin",
     "output_type": "stream",
     "text": [
      "Enter a word or sentence:  34egb\n"
     ]
    },
    {
     "name": "stdout",
     "output_type": "stream",
     "text": [
      "Contains digits or letters\n"
     ]
    }
   ],
   "source": [
    "sen =  input(\"Enter a word or sentence: \")\n",
    "if sen.isalpha() == True:\n",
    "    print(\"Contains Only Letters\")\n",
    "elif sen.isdigit() == True:\n",
    "    print(\"Contains only Digits\")\n",
    "else:\n",
    "    print(\"Contains digits or letters\")"
   ]
  },
  {
   "cell_type": "markdown",
   "id": "921dea84-35df-48cd-9fee-34edab1292b6",
   "metadata": {},
   "source": [
    "# 13. Create a program that determines if a string is a single word (no spaces) or multiple words."
   ]
  },
  {
   "cell_type": "code",
   "execution_count": 32,
   "id": "5755e23a-17b9-461c-b5f9-168232e74f06",
   "metadata": {},
   "outputs": [
    {
     "name": "stdin",
     "output_type": "stream",
     "text": [
      "Enter a word or sentence my name is gray\n"
     ]
    },
    {
     "name": "stdout",
     "output_type": "stream",
     "text": [
      "There is a spaces in [my name is gray] it is not a single word \n"
     ]
    }
   ],
   "source": [
    "word = input(\"Enter a word or sentence: \")\n",
    "if word.isalnum() != True:\n",
    "    print(f\"There is a spaces in [{word}] it is not a single word \")\n",
    "else:\n",
    "    print(f\"There is no spaces in {word} it is a single word\")"
   ]
  },
  {
   "cell_type": "markdown",
   "id": "71989ae7-989c-43f7-b2fa-c451e8c2636f",
   "metadata": {},
   "source": [
    "# 14. Write a program that checks if a name starts with a vowel or consonant."
   ]
  },
  {
   "cell_type": "code",
   "execution_count": 57,
   "id": "113d08fa-0125-4da7-8ea0-ebb7125845f4",
   "metadata": {},
   "outputs": [
    {
     "name": "stdin",
     "output_type": "stream",
     "text": [
      "Enter a name:  Esther\n"
     ]
    },
    {
     "name": "stdout",
     "output_type": "stream",
     "text": [
      "Name starts with a Vowel\n"
     ]
    }
   ],
   "source": [
    "name = input(\"Enter a name: \").lower()\n",
    "if name[0] in (\"a\",\"e\",\"i\",\"o\",\"u\"):\n",
    "    print(\"Name starts with a Vowel\")\n",
    "else:\n",
    "    print(\"Name starts with a Consonant\")"
   ]
  },
  {
   "cell_type": "markdown",
   "id": "bf9a44b6-55d9-4fc6-82ed-8baf0100b64f",
   "metadata": {},
   "source": [
    "# 15. Write a program that checks if a sentence starts with a capital letter and ends with proper punctuation (., !, or ?)."
   ]
  },
  {
   "cell_type": "code",
   "execution_count": 65,
   "id": "971a1975-2596-4729-85d3-4fe33d4fe0c4",
   "metadata": {},
   "outputs": [
    {
     "name": "stdin",
     "output_type": "stream",
     "text": [
      "Enter a Sentence:  Girls are here\n"
     ]
    },
    {
     "name": "stdout",
     "output_type": "stream",
     "text": [
      "Sentence does not begin with a capital letter and ends in a punctuation mark\n"
     ]
    }
   ],
   "source": [
    "sentence = input(\"Enter a Sentence: \")\n",
    "if sentence[0] == sentence[0].upper() and sentence[-1] in (\".\", \"!\", \"?\"):\n",
    "    print(\"Sentence begins with a capital letter and ends in a punctuation mark\")\n",
    "else:\n",
    "    print(\"Sentence does not either begin with a capital letter or ends in a punctuation mark\")"
   ]
  },
  {
   "cell_type": "markdown",
   "id": "828489e1-dbff-4103-874f-75eb4a1c79ee",
   "metadata": {},
   "source": [
    "# 16. Create a program that determines if a word is a palindrome (reads the same forwards and backwards)."
   ]
  },
  {
   "cell_type": "code",
   "execution_count": 74,
   "id": "ef77740a-a554-4d09-b1e1-f19c65eec0e3",
   "metadata": {},
   "outputs": [
    {
     "name": "stdin",
     "output_type": "stream",
     "text": [
      "Enter a word:  minim\n"
     ]
    },
    {
     "name": "stdout",
     "output_type": "stream",
     "text": [
      "The word minim is a Palindrome\n"
     ]
    }
   ],
   "source": [
    "word = input(\"Enter a word: \")\n",
    "if word == word[::-1]:\n",
    "    print(f\"The word {word} is a Palindrome\")\n",
    "else:\n",
    "    print(f\"The word {word} is not a Palindrome\")"
   ]
  },
  {
   "cell_type": "markdown",
   "id": "12549254-acb8-44d4-8f57-50e8139987c0",
   "metadata": {},
   "source": [
    "# 17. Write a program that checks if a phone number is in the format \"XXX-XXX-XXXX\" where X is a digit."
   ]
  },
  {
   "cell_type": "code",
   "execution_count": null,
   "id": "a306db14-6bd2-4c19-a338-0d768cd206ef",
   "metadata": {},
   "outputs": [],
   "source": [
    "phone_number = int(input(\"Enter a phone number: )\n",
    "if phone_number"
   ]
  }
 ],
 "metadata": {
  "kernelspec": {
   "display_name": "Python [conda env:base] *",
   "language": "python",
   "name": "conda-base-py"
  },
  "language_info": {
   "codemirror_mode": {
    "name": "ipython",
    "version": 3
   },
   "file_extension": ".py",
   "mimetype": "text/x-python",
   "name": "python",
   "nbconvert_exporter": "python",
   "pygments_lexer": "ipython3",
   "version": "3.12.7"
  }
 },
 "nbformat": 4,
 "nbformat_minor": 5
}
