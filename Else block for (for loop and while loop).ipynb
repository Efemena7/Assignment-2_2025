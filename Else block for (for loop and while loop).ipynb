{
 "cells": [
  {
   "cell_type": "markdown",
   "id": "abaa0db0-92d8-4bdf-87cc-c5b24faa1aec",
   "metadata": {},
   "source": [
    "## In Python, the else clause can be used with while and for loops. It is a unique feature that executes the code in the else block only if the loop completes normally (i.e., without encountering a break statement"
   ]
  },
  {
   "cell_type": "markdown",
   "id": "f93fc729-3b1a-47cc-839f-378e7a9b709b",
   "metadata": {},
   "source": [
    "## When to Use the else Clause\n",
    "## For Search Operations: To confirm whether an item was found or not after iterating through a sequence.\n",
    "## For Validation: To ensure a condition was met during the loop's execution.\n",
    "## For Cleanup: To execute specific code only if the loop completes successfully.\n",
    "## This feature can make your code more readable and expressive when used appropriately!"
   ]
  },
  {
   "cell_type": "markdown",
   "id": "d3f4a84a-3bdc-4e03-a9d8-7a8030cf6ad6",
   "metadata": {},
   "source": [
    "### 1. else with for Loop"
   ]
  },
  {
   "cell_type": "code",
   "execution_count": 14,
   "id": "ca5b1db2-6602-4b0b-832f-54599790f13c",
   "metadata": {},
   "outputs": [
    {
     "name": "stdout",
     "output_type": "stream",
     "text": [
      "Mark\n",
      "Esther\n",
      "Chemchris\n",
      "Okon\n",
      "Smith\n",
      "Clayton\n",
      "Gideon\n",
      "Edison\n",
      "Jason name was omitted\t\n"
     ]
    }
   ],
   "source": [
    "names = [\"Mark\", \"Esther\", \"Chemchris\", \"Okon\", \"Jason\", \"Smith\", \"Clayton\", \"Gideon\",\"Edison\"]\n",
    "for name in names:\n",
    "    if name == \"Jason\":\n",
    "        continue\n",
    "    print(name)\n",
    "else:\n",
    "    print(f\"\\t Jason name was omitted\")"
   ]
  },
  {
   "cell_type": "code",
   "execution_count": 16,
   "id": "a37c0230-e386-427e-9a69-a35f6f38daed",
   "metadata": {},
   "outputs": [
    {
     "name": "stdout",
     "output_type": "stream",
     "text": [
      "Mark\n",
      "Esther\n",
      "Chemchris\n",
      "Okon\n"
     ]
    }
   ],
   "source": [
    "names = [\"Mark\", \"Esther\", \"Chemchris\", \"Okon\", \"Jason\", \"Smith\", \"Clayton\", \"Gideon\",\"Edison\"]\n",
    "for name in names:\n",
    "    if name == \"Jason\":\n",
    "        break\n",
    "    print(name)\n",
    "else:\n",
    "    print(f\"\\t Jason name was omitted\")#because of the occurance of break the else block as ommitted"
   ]
  },
  {
   "cell_type": "markdown",
   "id": "91a8e593-0ad6-4fce-a5c5-6e476c2d2e64",
   "metadata": {},
   "source": [
    "### 2. else with while Loop"
   ]
  },
  {
   "cell_type": "code",
   "execution_count": 3,
   "id": "ca5184fd-a196-44c5-8618-e317914174cc",
   "metadata": {},
   "outputs": [
    {
     "name": "stdout",
     "output_type": "stream",
     "text": [
      "Count is 0\n",
      "Count is 1\n",
      "Count is 2\n",
      "Breaking at 3!\n",
      "Count is 3\n",
      "Count is 4\n",
      "Loop completed without a break.\n"
     ]
    }
   ],
   "source": [
    "count = 0\n",
    "while count < 5:\n",
    "    if count == 3:\n",
    "        print(\"Breaking at 3!\")\n",
    "    print(f\"Count is {count}\")\n",
    "    count += 1\n",
    "else:\n",
    "    print(\"Loop completed without a break.\")"
   ]
  },
  {
   "cell_type": "code",
   "execution_count": 1,
   "id": "8bfd3ee4-8c56-4610-9dcd-4989c6f75ae0",
   "metadata": {},
   "outputs": [
    {
     "name": "stdout",
     "output_type": "stream",
     "text": [
      "Count is 0\n",
      "Count is 1\n",
      "Count is 2\n",
      "Breaking at 3!\n"
     ]
    }
   ],
   "source": [
    "count = 0\n",
    "\n",
    "while count < 5:\n",
    "    if count == 3:\n",
    "        print(\"Breaking at 3!\")\n",
    "        break\n",
    "    print(f\"Count is {count}\")\n",
    "    count += 1\n",
    "else:\n",
    "    print(\"Loop completed without a break.\")"
   ]
  },
  {
   "cell_type": "code",
   "execution_count": null,
   "id": "4601860c-3ac6-44c6-8870-bdb239baef39",
   "metadata": {},
   "outputs": [],
   "source": []
  }
 ],
 "metadata": {
  "kernelspec": {
   "display_name": "Python [conda env:base] *",
   "language": "python",
   "name": "conda-base-py"
  },
  "language_info": {
   "codemirror_mode": {
    "name": "ipython",
    "version": 3
   },
   "file_extension": ".py",
   "mimetype": "text/x-python",
   "name": "python",
   "nbconvert_exporter": "python",
   "pygments_lexer": "ipython3",
   "version": "3.12.7"
  }
 },
 "nbformat": 4,
 "nbformat_minor": 5
}
