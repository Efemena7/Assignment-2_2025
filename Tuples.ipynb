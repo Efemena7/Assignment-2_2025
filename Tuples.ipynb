{
 "cells": [
  {
   "cell_type": "code",
   "execution_count": 5,
   "id": "698ec8c2-1fff-408a-b44b-bf9ca6807d85",
   "metadata": {},
   "outputs": [],
   "source": [
    "tup = (\"Mental\", 3, 56, \"Mark\", \"Esther\",\"Mark\", \"45\", \"angel\", 90, 90)"
   ]
  },
  {
   "cell_type": "code",
   "execution_count": 7,
   "id": "5ce455e1-4bb1-4db6-9c81-d3177efeda8b",
   "metadata": {},
   "outputs": [
    {
     "data": {
      "text/plain": [
       "tuple"
      ]
     },
     "execution_count": 7,
     "metadata": {},
     "output_type": "execute_result"
    }
   ],
   "source": [
    "type(tup)"
   ]
  },
  {
   "cell_type": "markdown",
   "id": "509045f1-97d1-4f88-8c43-5518437e7084",
   "metadata": {},
   "source": [
    "## A tuple uses a parenthesis() while a list uses a bracket[]"
   ]
  },
  {
   "cell_type": "code",
   "execution_count": null,
   "id": "5cfa17a6-13a8-4c1e-ac37-0bdbb8c9fbe8",
   "metadata": {},
   "outputs": [],
   "source": []
  }
 ],
 "metadata": {
  "kernelspec": {
   "display_name": "Python [conda env:base] *",
   "language": "python",
   "name": "conda-base-py"
  },
  "language_info": {
   "codemirror_mode": {
    "name": "ipython",
    "version": 3
   },
   "file_extension": ".py",
   "mimetype": "text/x-python",
   "name": "python",
   "nbconvert_exporter": "python",
   "pygments_lexer": "ipython3",
   "version": "3.12.7"
  }
 },
 "nbformat": 4,
 "nbformat_minor": 5
}
