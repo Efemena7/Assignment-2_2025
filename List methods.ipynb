{
 "cells": [
  {
   "cell_type": "code",
   "execution_count": 55,
   "id": "2817ea3e-a8c4-4dd0-8550-8a94d195199c",
   "metadata": {},
   "outputs": [],
   "source": [
    "sen = [\"Mental\", 3, 56, \"Mark\", \"Esther\",\"Mark\", \"45\", \"angel\", 90, 90]"
   ]
  },
  {
   "cell_type": "code",
   "execution_count": 17,
   "id": "726134cf-0293-4537-bb55-58ff8257e56c",
   "metadata": {},
   "outputs": [
    {
     "data": {
      "text/plain": [
       "['Mental', 3, 56, 'Mark', 'Esther', 'Mark', '45', 'angel', 90, 90]"
      ]
     },
     "execution_count": 17,
     "metadata": {},
     "output_type": "execute_result"
    }
   ],
   "source": [
    "sen"
   ]
  },
  {
   "cell_type": "code",
   "execution_count": 19,
   "id": "e4d5fce6-3fbf-490b-a3fa-e9ef3c212b2f",
   "metadata": {},
   "outputs": [
    {
     "data": {
      "text/plain": [
       "0"
      ]
     },
     "execution_count": 19,
     "metadata": {},
     "output_type": "execute_result"
    }
   ],
   "source": [
    "sen.count(\"a\")"
   ]
  },
  {
   "cell_type": "code",
   "execution_count": 21,
   "id": "4bbbedbe-b55e-41e7-b613-eeb8d239aa0a",
   "metadata": {},
   "outputs": [
    {
     "data": {
      "text/plain": [
       "2"
      ]
     },
     "execution_count": 21,
     "metadata": {},
     "output_type": "execute_result"
    }
   ],
   "source": [
    "sen.count(90)"
   ]
  },
  {
   "cell_type": "code",
   "execution_count": 23,
   "id": "27c898d7-f172-4fc5-bb29-2f16a5e57158",
   "metadata": {},
   "outputs": [
    {
     "data": {
      "text/plain": [
       "2"
      ]
     },
     "execution_count": 23,
     "metadata": {},
     "output_type": "execute_result"
    }
   ],
   "source": [
    "sen.count(\"Mark\")# counts the number of times a given argument occurs in the list "
   ]
  },
  {
   "cell_type": "code",
   "execution_count": 27,
   "id": "0fb2a8c5-4121-44bf-9a82-f868ab82ec3e",
   "metadata": {},
   "outputs": [
    {
     "ename": "TypeError",
     "evalue": "sort() takes no positional arguments",
     "output_type": "error",
     "traceback": [
      "\u001b[1;31m---------------------------------------------------------------------------\u001b[0m",
      "\u001b[1;31mTypeError\u001b[0m                                 Traceback (most recent call last)",
      "Cell \u001b[1;32mIn[27], line 1\u001b[0m\n\u001b[1;32m----> 1\u001b[0m sen\u001b[38;5;241m.\u001b[39msort(\u001b[38;5;241m90\u001b[39m)\n",
      "\u001b[1;31mTypeError\u001b[0m: sort() takes no positional arguments"
     ]
    }
   ],
   "source": [
    "sen.sort()# this mostly works if the list is made up of only strings or numbers"
   ]
  },
  {
   "cell_type": "code",
   "execution_count": 47,
   "id": "95606165-5878-4355-9450-f77b9ac430e1",
   "metadata": {},
   "outputs": [],
   "source": [
    "senn = sen.reverse()"
   ]
  },
  {
   "cell_type": "code",
   "execution_count": 43,
   "id": "db33eeac-5504-4ffe-a2db-50d046ac2b9e",
   "metadata": {},
   "outputs": [],
   "source": [
    "sen.reverse()"
   ]
  },
  {
   "cell_type": "code",
   "execution_count": 45,
   "id": "d73192bc-2010-48b3-8907-5167137e5043",
   "metadata": {},
   "outputs": [
    {
     "data": {
      "text/plain": [
       "['Mental', 3, 56, 'Mark', 'Esther', 'Mark', '45', 'angel', 90, 90]"
      ]
     },
     "execution_count": 45,
     "metadata": {},
     "output_type": "execute_result"
    }
   ],
   "source": [
    "sen"
   ]
  },
  {
   "cell_type": "code",
   "execution_count": 51,
   "id": "44a9aa00-2c26-4526-b46b-cbb44aa2c667",
   "metadata": {},
   "outputs": [],
   "source": [
    "sen.clear()"
   ]
  },
  {
   "cell_type": "code",
   "execution_count": 53,
   "id": "6febdfdb-a519-42b5-9514-85d1b645ee51",
   "metadata": {},
   "outputs": [
    {
     "data": {
      "text/plain": [
       "[]"
      ]
     },
     "execution_count": 53,
     "metadata": {},
     "output_type": "execute_result"
    }
   ],
   "source": [
    "sen"
   ]
  },
  {
   "cell_type": "code",
   "execution_count": 59,
   "id": "37c777ae-bf56-41ac-8325-966817e44ca8",
   "metadata": {},
   "outputs": [],
   "source": [
    "sennn = sen.copy()"
   ]
  },
  {
   "cell_type": "code",
   "execution_count": 61,
   "id": "e0d62d57-d011-4fd6-bc60-9f448cfe8a08",
   "metadata": {},
   "outputs": [
    {
     "data": {
      "text/plain": [
       "['Mental', 3, 56, 'Mark', 'Esther', 'Mark', '45', 'angel', 90, 90]"
      ]
     },
     "execution_count": 61,
     "metadata": {},
     "output_type": "execute_result"
    }
   ],
   "source": [
    "sennn"
   ]
  },
  {
   "cell_type": "code",
   "execution_count": null,
   "id": "c601182a-c3fc-4e5f-a474-a4145634ead0",
   "metadata": {},
   "outputs": [],
   "source": []
  }
 ],
 "metadata": {
  "kernelspec": {
   "display_name": "Python [conda env:base] *",
   "language": "python",
   "name": "conda-base-py"
  },
  "language_info": {
   "codemirror_mode": {
    "name": "ipython",
    "version": 3
   },
   "file_extension": ".py",
   "mimetype": "text/x-python",
   "name": "python",
   "nbconvert_exporter": "python",
   "pygments_lexer": "ipython3",
   "version": "3.12.7"
  }
 },
 "nbformat": 4,
 "nbformat_minor": 5
}
